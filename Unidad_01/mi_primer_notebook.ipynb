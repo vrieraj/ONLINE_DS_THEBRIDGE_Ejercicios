{
 "cells": [
  {
   "cell_type": "code",
   "execution_count": 1,
   "id": "c460ad8c-ddc2-48c7-9735-a97bf7560537",
   "metadata": {},
   "outputs": [
    {
     "name": "stdout",
     "output_type": "stream",
     "text": [
      "Hola Mundo\n"
     ]
    }
   ],
   "source": [
    "print('Hola Mundo')"
   ]
  },
  {
   "cell_type": "markdown",
   "id": "3b4ad7e2-07be-4616-8d30-b38084e61b52",
   "metadata": {},
   "source": [
    "Hola Mundo"
   ]
  }
 ],
 "metadata": {
  "kernelspec": {
   "display_name": "Python 3 (ipykernel)",
   "language": "python",
   "name": "python3"
  },
  "language_info": {
   "codemirror_mode": {
    "name": "ipython",
    "version": 3
   },
   "file_extension": ".py",
   "mimetype": "text/x-python",
   "name": "python",
   "nbconvert_exporter": "python",
   "pygments_lexer": "ipython3",
   "version": "3.12.2"
  }
 },
 "nbformat": 4,
 "nbformat_minor": 5
}

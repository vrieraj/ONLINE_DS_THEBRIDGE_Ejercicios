{
 "cells": [
  {
   "cell_type": "markdown",
   "metadata": {},
   "source": [
    "![](img/cabecera.png)\n"
   ]
  },
  {
   "cell_type": "markdown",
   "metadata": {},
   "source": [
    "# **Taller AWS: API REST en AWS EC2**\n",
    "\n",
    "Para este taller vas a desplegar una API REST desarrollada con Flask en la nube de Amazon Web Services (AWS), de manera que puedas ejecutar tu aplicación web de forma remota y acceder a ella desde cualquier lugar.\n",
    "\n",
    "En el taller seguiremos los siguientes pasos:\n",
    "- Crearemos una máquina virtual en una instancia de AWS\n",
    "- Instalaremos Python, Flask y todas las dependencias necesarias. \n",
    "- Configuraremos el acceso y desplegaremos nuestra API REST usando Gunicorn como servidor de aplicaciones.\n",
    "- Accederás a tu API desde cualquier navegador usando la dirección IP pública de tu instancia."
   ]
  },
  {
   "cell_type": "markdown",
   "metadata": {},
   "source": [
    "## Crea una cuenta de AWS\n",
    "\n",
    "Lo primero que necesitas es una cuenta de AWS. Puedes crear la cuenta desde este [enlace](https://aws.amazon.com/free/), además de poder consultar los servicios gratuitos del Free Tier."
   ]
  },
  {
   "cell_type": "markdown",
   "metadata": {},
   "source": [
    "## Recurso EC2\n",
    "\n",
    "Una vez hayas accedido a tu cuenta, tienes que crear un recurso EC2, las instancias EC2 son máquinas virtuales en la nube de AWS. Todos los proveedores Cloud disponen de servicios similares o iguales, pero sus nombres específicos cambian por cuestiones de marketing.  \n",
    "\n",
    "En el buscador (arriba a la izquierda) escribe EC2 o pulsa en el menú de Servicios (el icono con cuadraditos) y ve a Informática -> EC2. Una vez estemos en esta sección, seleccionamos \"Lanzar una instancia\"."
   ]
  },
  {
   "cell_type": "markdown",
   "metadata": {},
   "source": [
    "<img src=\"img/imagen-01.png\" alt=\"AWS Dashboard\" style=\"width: 800px;\">  \n"
   ]
  },
  {
   "cell_type": "markdown",
   "metadata": {},
   "source": [
    "## Configuración del EC2\n",
    "\n",
    "Ahora tendremos que escoger una Amazon Machine Image (AMI), donde configuraremos el sistema operativo, recursos y software que vayamos a utilizar.\n",
    "\n",
    "Para este taller vamos a utilizar **Ubuntu Server 24.04 LTS** que está incluida en el Free Tier.  \n",
    "\n",
    "Ubuntu es una distribución de Linux muy popular y viene con herramientas que nos facilitarán la instalación de Python y nuestras dependencias.\n",
    "\n",
    "En \"Imágenes de aplicaciones y sistemas operativos (Imagen de máquina de Amazon)\" busca y selecciona:\n",
    "- **Ubuntu Server 24.04 LTS (HVM), SSD Volume Type**\n",
    "\n",
    "Para la capacidad de la instancia, utilizaremos una instancia de tipo **t3.micro** compatible con la Capa Gratuita o Free Tier, que nos proporciona:\n",
    "- 2 vCPU\n",
    "- 1 GiB de RAM\n",
    "- 8 GiB de Almacenamiento SSD EBS"
   ]
  },
  {
   "cell_type": "markdown",
   "metadata": {},
   "source": [
    "<img src=\"img/imagen-02.png\" alt=\"AWS EC2 Ubuntu Configuration\" style=\"width: 800px;\">  \n"
   ]
  },
  {
   "cell_type": "markdown",
   "metadata": {},
   "source": [
    "## Claves de la máquina\n",
    "\n",
    "Para poder acceder a la máquina sin que nos pida las credenciales, necesitaremos una clave privada, que conservaremos en local y una clave pública que estará en el EC2. Esto se denomina \"key-pair\".\n",
    "\n",
    "**IMPORTANTE.** Descárgate la clave privada (archivo .pem). Es el único momento en el que podrás hacerlo. Para este taller la llamaremos \"flask-api-key\", por lo que descargaremos un archivo \"flask-api-key.pem\".\n",
    "\n",
    "¡Ya tienes la máquina desplegada y corriendo! En los siguientes apartados aprenderemos a acceder a la misma, instalar Python, Flask y desplegar nuestra API."
   ]
  },
  {
   "cell_type": "markdown",
   "metadata": {},
   "source": [
    "<img src=\"img/imagen-03.png\" alt=\"Key Pair Flask Configuration 01\" style=\"width: 800px;\">  \n"
   ]
  },
  {
   "cell_type": "markdown",
   "metadata": {},
   "source": [
    "<img src=\"img/imagen-04.png\" alt=\"Key Pair Flask Configuration 02\" style=\"width: 800px;\">  \n"
   ]
  },
  {
   "cell_type": "markdown",
   "metadata": {},
   "source": [
    "## Configuración del Security Group\n",
    "\n",
    "En el desplegable de \"Configuraciones de Red\" debemos buscar la parte referente a \"Firewall (Grupos de Seguridad)\". Para este taller vamos a crear un nuevo grupo de seguridad con una configuración inicial permisiva, este grupo de seguridad será específico para nuestra API REST por lo que debemos seleccionar:\n",
    "\n",
    "- **Crear grupo de seguridad**, el nombre será asignado automáticamente.\n",
    "- **Permitir el tráfico de SSH desde**\n",
    "- **Permitir el tráfico de HTTPS desde Internet**\n",
    "- **Permitir el tráfico de HTTP desde Internet**\n",
    "\n",
    "**Nota de seguridad**: Acabas de crear un grupo de seguridad que **permita todo el tráfico** para facilitar las pruebas iniciales. Esta configuración es solo para desarrollo. En producción nunca permitas todo el tráfico."
   ]
  },
  {
   "cell_type": "markdown",
   "metadata": {},
   "source": [
    "<img src=\"img/imagen-05.png\" alt=\"Security Group Flask Configuration\" style=\"width: 800px;\">  \n"
   ]
  },
  {
   "cell_type": "markdown",
   "metadata": {},
   "source": [
    "# Acceso al EC2 desde local\n",
    "\n",
    "Ya tenemos la máquina lista. Ahora lo que queda es acceder a la misma desde nuestro local. Para ello necesitamos conectarnos por SSH al EC2. Si pulsas el botón \"Conectar\" en el panel de la instancia verás diferentes formas de conectarte a tu instancia.  \n",
    "\n",
    "<img src=\"img/imagen-06.png\" alt=\"Conect to Instance\" style=\"width: 800px;\">  \n",
    "\n",
    "**Para Ubuntu**, el usuario por defecto es `ubuntu` (en cada SO el usuario por defecto es diferente, por ejemplo en máquinas con Amazon Linux el usuario por defecto es `ec2-user`).\n",
    "\n",
    "Si estás en Windows, abre un terminal de GitBash en el directorio donde hayas descargado tu archivo .pem y ejecuta las siguientes sentencias o pasos. Si estás en MacOS/Linux, simplemente abre un terminal y sigue los pasos.\n",
    "\n",
    "Para evitar problemas de permisos con la clave, ejecuta:\n",
    "\n",
    "```bash\n",
    "chmod 400 flask-api-key.pem\n",
    "```\n",
    "Una vez cambiados los permisos podemos conectarnos a la instancia ejecutando la sentencia:\n",
    "\n",
    "```bash\n",
    "ssh -i \"flask-api-key.pem\" ubuntu@ec2-XXX-XXX-XXX-XXX.compute-1.amazonaws.com\n",
    "```\n",
    "\n",
    "**Recuerda:** Sustituye la dirección DNS por la de tu instancia, que puedes encontrar en el panel de EC2.\n"
   ]
  },
  {
   "cell_type": "markdown",
   "metadata": {},
   "source": [
    "<img src=\"img/imagen-07.png\" alt=\"EC2 SSH Connection\" style=\"width: 600px;\">\n"
   ]
  },
  {
   "cell_type": "markdown",
   "metadata": {},
   "source": [
    "# Preparación de la instancia EC2\n",
    "\n",
    "Una vez conectados a nuestra instancia Ubuntu, vamos a preparar el entorno para nuestra API Flask.\n",
    "\n",
    "## Actualización de dependencias\n",
    "\n",
    "Lo primero es actualizar el sistema con los últimos paquetes:\n",
    "\n",
    "```bash\n",
    "sudo apt update -y\n",
    "```\n",
    "\n",
    "Este comando:\n",
    "- `sudo`: ejecuta como administrador\n",
    "- `apt update`: actualiza la lista de paquetes disponibles\n",
    "- `-y`: acepta automáticamente todas las confirmaciones"
   ]
  },
  {
   "cell_type": "markdown",
   "metadata": {},
   "source": [
    "## Instalación de herramientas esenciales\n",
    "\n",
    "Nuestro servidor de Ubuntu ya tiene Python 3 instalado, pero carece de algunas características que nos son muy familiares, como por ejemplo pip (gestor de paquetes de Python) y git (para clonar repositorios). Si además quieres actualizar Python a la última distribución disponible para Ubuntu, puedes incluirlo en la sentencia:\n",
    "\n",
    "```bash\n",
    "sudo apt install python3 python3-pip git -y\n",
    "```\n",
    "\n",
    "Verificamos que todo se instaló correctamente:\n",
    "\n",
    "```bash\n",
    "python3 --version\n",
    "pip3 --version\n",
    "git --version\n",
    "```"
   ]
  },
  {
   "cell_type": "markdown",
   "metadata": {},
   "source": [
    "## Clonado del proyecto\n",
    "\n",
    "Ahora que tenemos Git instalado, clonamos el repositorio de nuestro proyecto Flask y comprobamos que se haya clonado correctamente:\n",
    "\n",
    "```bash\n",
    "git clone https://github.com/tu-usuario/tu-proyecto-flask.git\n",
    "ls\n",
    "```\n",
    "\n",
    "**Nota:** Sustituye la URL por la de tu repositorio real."
   ]
  },
  {
   "cell_type": "markdown",
   "metadata": {},
   "source": [
    "# Instalación de dependencias del proyecto\n",
    "\n",
    "Entramos en el directorio del proyecto e intentamos instalar las dependencias:\n",
    "\n",
    "```bash\n",
    "cd tu-proyecto-flask\n",
    "pip install -r requirements.txt\n",
    "```\n",
    "\n",
    "¡Vaya!, es probable que encuentres un error (bastante verboso) que diga algo similar a:\n",
    "\n",
    "```\n",
    "error: externally-managed-environment\n",
    "```\n",
    "\n",
    "\n",
    "## ¿Por qué Ubuntu no nos deja instalar dependencias?\n",
    "\n",
    "Ubuntu 22.04 y versiones posteriores incluyen una protección que previene la instalación de paquetes Python directamente en el sistema con pip. Python es parte esencial del funcionamiento de la máquina Ubuntu y por este motivo se impide la instalación de paquetes sobre el entorno del sistema. De esta forma conseguimos:\n",
    "\n",
    "1. **Evitar conflictos** entre paquetes del sistema y paquetes instalados por el usuario\n",
    "2. **Proteger el sistema** de posibles incompatibilidades\n",
    "3. **Fomentar buenas prácticas** como el uso de entornos virtuales\n",
    "\n",
    "**La solución:** Usar entornos virtuales (Virtual Environments) para no romper nuestra máquina."
   ]
  },
  {
   "cell_type": "markdown",
   "metadata": {},
   "source": [
    "## Creación de entorno virtual\n",
    "\n",
    "Al igual que ocurría con pip y Git, antes de poder crear entornos virtuales debemos instalar el paquete para ello:\n",
    "\n",
    "```bash\n",
    "sudo apt install python3-venv -y\n",
    "```\n",
    "\n",
    "Ahora creamos nuestro entorno virtual, **pero es muy IMPORTANTE que lo hagamos dentro de la carpeta de nuestro proyecto**:\n",
    "\n",
    "```bash\n",
    "python3 -m venv venv\n",
    "```\n",
    "\n",
    "Activamos el entorno virtual:\n",
    "\n",
    "```bash\n",
    "source venv/bin/activate\n",
    "```\n",
    "\n",
    "Verás que tu prompt cambia y muestra `(venv)` al principio, indicando que el entorno está activo.\n",
    "\n",
    "Ahora sí podemos instalar las dependencias:\n",
    "\n",
    "```bash\n",
    "pip install -r requirements.txt\n",
    "```"
   ]
  },
  {
   "cell_type": "markdown",
   "metadata": {},
   "source": [
    "# Lanzamiento de la API\n",
    "\n",
    "## ¿Qué es Gunicorn?\n",
    "\n",
    "Ahora que ya estamos familiarizados con Gunicorn (Green Unicorn), recuerda que es un servidor WSGI HTTP para Python. Es mucho más robusto y eficiente que el servidor de desarrollo integrado de Flask para entornos de producción. Entre sus principales ventajas podemos destacar:\n",
    "\n",
    "- Manejo de múltiples workers (procesos)\n",
    "- Mejor rendimiento bajo carga\n",
    "- Más estable para producción\n",
    "- Configuración flexible\n",
    "\n",
    "## Instalación de Gunicorn\n",
    "\n",
    "Nuestra recomendación es que Gunicorn se encuentre en tu requirements.txt, de modo que al instalar todas las dependencias se incluya la instalación de Gunicorn, en caso contrario deberás instalarlo con pip.\n",
    "\n",
    "## Lanzamiento de la API\n",
    "\n",
    "Lanzamos nuestra API Flask usando Gunicorn con 3 workers y *binded* o vinculado a todas las interfaces de red en el puerto 5000:\n",
    "\n",
    "```bash\n",
    "gunicorn -w 3 -b 0.0.0.0:5000 app:app\n",
    "```\n",
    "\n",
    "**Explicación del comando:**\n",
    "- `gunicorn`: el servidor WSGI\n",
    "- `-w 3`: el servidor tendrá 3 *workers* para gestionar la carga\n",
    "- `-b 0.0.0.0:5000`: *bind* (vincular) a todas las interfaces de red en el puerto 5000\n",
    "- `app:app`: el primer `app` es el archivo Python (app.py), el segundo `app` es la instancia de Flask dentro del archivo\n",
    "\n",
    "**¿Por qué `0.0.0.0` y no `localhost`?**  \n",
    "\n",
    "- `localhost (127.0.0.1)`: Solo acepta conexiones desde la propia máquina\n",
    "- `0.0.0.0`: Acepta conexiones desde cualquier IP (necesario para acceso desde internet)\n",
    "\n",
    "Como queremos acceder desde nuestro navegador, necesitamos `0.0.0.0`.\n",
    "\n",
    "**¿Por qué 3 workers?**  \n",
    "\n",
    "Regla: `(CPU cores × 2) + 1`. Para t3.micro (2 vCPU) podríamos usar un máximo de 5 workers, pero con solo 1GiB RAM el equilibrio entre rendimiento y estabilidad está en 3 workers.\n",
    "\n",
    "Si todo va bien, verás algo parecido a:\n",
    "```\n",
    "[INFO] Starting gunicorn 23.0.0\n",
    "[INFO] Listening at: http://0.0.0.0:5000\n",
    "[INFO] Using worker: sync\n",
    "[INFO] Booting worker with pid: XXX1\n",
    "[INFO] Booting worker with pid: XXX2\n",
    "[INFO] Booting worker with pid: XXX3\n",
    "```"
   ]
  },
  {
   "cell_type": "markdown",
   "metadata": {},
   "source": [
    "# Acceso a la API\n",
    "\n",
    "## Obtención de la IP pública\n",
    "\n",
    "Para acceder a tu API desde cualquier lugar, necesitas la **IP pública** de tu instancia EC2:\n",
    "\n",
    "1. Ve al panel de EC2 en AWS\n",
    "2. Selecciona tu instancia\n",
    "3. En la pestaña \"Detalles\", busca **\"Dirección IPv4 pública\"**\n",
    "4. Copia esta dirección (será algo como: `54.123.45.67`)"
   ]
  },
  {
   "cell_type": "markdown",
   "metadata": {},
   "source": [
    "<img src=\"img/imagen-08.png\" alt=\"API Access Information\" style=\"width: 800px;\">\n"
   ]
  },
  {
   "cell_type": "markdown",
   "metadata": {},
   "source": [
    "## Conexión a la API\n",
    "\n",
    "Ahora puedes acceder a tu API desde cualquier navegador usando:\n",
    "\n",
    "```\n",
    "http://TU_IP_PUBLICA:5000\n",
    "```\n",
    "\n",
    "Por ejemplo:\n",
    "```\n",
    "http://54.123.45.67:5000\n",
    "```\n",
    "\n",
    "\n",
    "**Recuerda que esto no solo lo puedes probar desde tu navegador, también puedes usar herramientas como:**\n",
    "- **Postman** para probar endpoints\n",
    "- **curl** desde la línea de comandos del terminal"
   ]
  },
  {
   "cell_type": "markdown",
   "metadata": {},
   "source": [
    "# ¿Ha funcionado?\n",
    "\n",
    "En caso afirmativo, ¡es una sorpresa interesante!  \n",
    "\n",
    "En caso negativo, ¿qué ha podido fallar?\n",
    "\n",
    "Lo que ocurre es que Gunicorn se está ejecutando en el puerto 5000 del Localhost de la instancia EC2, que es diferente al Localhost de nuestro ordenador personal."
   ]
  },
  {
   "cell_type": "markdown",
   "metadata": {},
   "source": [
    "### Opción 1: Crear un túnel SSH entre nuestro equipo y la instancia EC2\n",
    "\n",
    "Abre un nuevo GitBash o terminal y ejecuta la siguiente sentencia para establecer un túnel entre tu equipo y la instancia remota.\n",
    "\n",
    "```bash\n",
    "ssh -i \"flask-api-key.pem\" -L localhost:5000:localhost:5000 ubuntu@ec2-XXX-XXX-XXX-XXX.compute-1.amazonaws.com\n",
    "```\n",
    "\n",
    "Con el túnel levantado, prueba a acceder en http://127.0.0.1:5000/ con tu navegador.\n",
    "\n",
    "Esta opción es segura pero solo te permite acceder a tu API desde tu ordenador (no está expuesta al tráfico desde internet).\n",
    "\n",
    "**Recuerda:** Sustituye la dirección DNS por la de tu instancia, que puedes encontrar en el panel de EC2.\n"
   ]
  },
  {
   "cell_type": "markdown",
   "metadata": {},
   "source": [
    "### Opción 2: Refinamiento del Grupo de Seguridad (Security Group)\n",
    "\n",
    "Con nuestra instancia funcionando, vamos a **actualizar el grupo de seguridad** para ser más específicos:\n",
    "\n",
    "1. En el panel de la Instancia EC2 desciende hasta que veas la pestaña Seguridad.\n",
    "2. Pincha en el grupo de seguridad de la instancia.\n",
    "3. **Edita las reglas de entrada** y añade:\n",
    "   - **Custom TCP**: Puerto **5000**, origen 0.0.0.0/0 (aquí correrá Gunicorn).\n",
    "4. **Guarda las reglas de entrada.**\n",
    "\n",
    "**¿Por qué puerto 5000?** Gunicorn (nuestro servidor de aplicaciones) estará escuchando en este puerto.\n",
    "\n",
    "Con las reglas modificadas prueba a acceder desde tu navegador usando la IP pública de tu instancia, recuerda incluir el puerto 5000 para confirmar que Gunicorn funciona y la API está levantada.\n",
    "\n",
    "Nota: Una vez confirmes que la API funciona, lo más seguro es **eliminar** la regla que acabamos de crear.\n"
   ]
  },
  {
   "cell_type": "markdown",
   "metadata": {},
   "source": [
    "*Paso 1:*  \n",
    "\n",
    "<img src=\"img/imagen-09.png\" alt=\"Security Group Flask Configuration\" style=\"width: 800px;\">\n"
   ]
  },
  {
   "cell_type": "markdown",
   "metadata": {},
   "source": [
    "*Paso 2:*  \n",
    "\n",
    "<img src=\"img/imagen-10.png\" alt=\"Security Group Flask Configuration\" style=\"width: 800px;\">\n"
   ]
  },
  {
   "cell_type": "markdown",
   "metadata": {},
   "source": [
    "*Paso 3:*  \n",
    "\n",
    "<img src=\"img/imagen-11.png\" alt=\"Security Group Flask Configuration\" style=\"width: 800px;\">\n"
   ]
  },
  {
   "cell_type": "markdown",
   "metadata": {},
   "source": [
    "# ¡Enhorabuena!\n",
    "\n",
    "Has logrado desplegar exitosamente tu API REST con Flask en AWS EC2. Tu aplicación está ahora:\n",
    "\n",
    "- **Corriendo en la nube** - Accesible desde cualquier lugar del mundo  \n",
    "- **Usando Gunicorn** - Un servidor de producción robusto  \n",
    "- **En un entorno virtual** - Aislado y con dependencias controladas  \n",
    "\n",
    "## Lo que has aprendido:\n",
    "\n",
    "1. **Configuración de EC2** con Ubuntu Server\n",
    "2. **Gestión de Security Groups** y puertos\n",
    "3. **Resolución de problemas** con entornos externally-managed\n",
    "4. **Uso de entornos virtuales** en Linux\n",
    "5. **Despliegue con Gunicorn** en lugar del servidor de desarrollo\n",
    "6. **Acceso público** a tu aplicación web\n",
    "\n",
    "## Pero esto no acaba aquí...\n",
    "\n",
    "Si tienes tiempo y energía, **¡continúa con la Parte Extra Opcional!**"
   ]
  },
  {
   "cell_type": "markdown",
   "metadata": {},
   "source": [
    "## **Y RECUERDA**\n",
    "\n",
    "#### **¡Apaga tu instancia cuando no la uses para conservar tu Capa Gratuita o Free Tier!**\n"
   ]
  },
  {
   "cell_type": "markdown",
   "metadata": {},
   "source": [
    "---"
   ]
  },
  {
   "cell_type": "markdown",
   "metadata": {},
   "source": [
    "## Comandos de referencia rápida\n",
    "\n",
    "### Gestión de la instancia:\n",
    "```bash\n",
    "# Conectar por SSH\n",
    "ssh -i \"flask-api-key.pem\" ubuntu@ec2-XXX-XXX-XXX-XXX.compute-1.amazonaws.com\n",
    "\n",
    "# Activar entorno virtual\n",
    "source venv/bin/activate\n",
    "\n",
    "# Lanzar API\n",
    "gunicorn -w 3 -b 0.0.0.0:5000 app:app\n",
    "\n",
    "```\n",
    "\n",
    "### Pruebas de la API:\n",
    "```bash\n",
    "# Desde tu ordenador local\n",
    "curl http://TU_IP_PUBLICA:5000\n",
    "curl http://TU_IP_PUBLICA:5000/api/v1/predict?tv=50&radio=75.5&newspaper=200\n",
    "```"
   ]
  }
 ],
 "metadata": {
  "kernelspec": {
   "display_name": "Python 3",
   "language": "python",
   "name": "python3"
  },
  "language_info": {
   "codemirror_mode": {
    "name": "ipython",
    "version": 3
   },
   "file_extension": ".py",
   "mimetype": "text/x-python",
   "name": "python",
   "nbconvert_exporter": "python",
   "pygments_lexer": "ipython3",
   "version": "3.8.5"
  }
 },
 "nbformat": 4,
 "nbformat_minor": 4
}
